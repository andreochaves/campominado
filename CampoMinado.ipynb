{
  "cells": [
    {
      "metadata": {},
      "cell_type": "markdown",
      "source": "# Projeto Campo Minado"
    },
    {
      "metadata": {
        "collapsed": true
      },
      "cell_type": "markdown",
      "source": "### Você fará um divertido jogo de campo minado. Para isto, existe um arquivo de texto chamado “campominado.txt” contendo 20 linhas, com “X” e “O”. “X” indica as bombas e “O” indica os espaços válidos. Em uma lista, será carregado o conteúdo do arquivo CSV e o usuário será perguntado sobre qual posição deseja arriscar. Caso a posição informada tenha uma bomba, ele perde o jogo. Caso a posição contenha um espaço livre, ele poderá continuar.\n\n### Quando o jogador acertar todos os espaços válidos (“O”) ele ganha o jogo e seu nome irá para o “hall da fama” que é um arquivo que gravará seu nome.\n\n### a) Na função principal, carregue o vetor com os dados do arquivo texto\n\n### b) Faça uma função chamada “verificaPosicao” que receba como parâmetro o vetor do jogo e uma posição que o usuário deseja arriscar (lembre-se de solicitar ao usuário a posição). A função retornará true caso o usuário tenha acertado uma posição válida ou já tentada antes ou false caso tenha acertado uma bomba. Observe que é preciso saber as posições que o usuário já tentou antes.\n\n### c) Faça um loop na função principal onde o jogador poderá continuar a jogar até acertar todos os espaços válidos ou uma bomba. Lembre-se de encontrar uma forma de saber a quantidade total de espaços válidos.\n\n### d) Ao fim do loop, caso o usuário tenha acertado todas as posições válidas, solicite seu nome e envie-o a uma função chamada “salvaVencedor” que salvará este nome em um arquivo CSV chamado “vencedores.csv” Caso o usuário tenha perdido, basta exibir “Que pena! Tente na próxima vez”."
    },
    {
      "metadata": {},
      "cell_type": "markdown",
      "source": "#### Primeiro vamos importar a biblioteca CSV"
    },
    {
      "metadata": {
        "trusted": true
      },
      "cell_type": "code",
      "source": "import csv",
      "execution_count": 3,
      "outputs": []
    },
    {
      "metadata": {
        "trusted": true
      },
      "cell_type": "code",
      "source": "def verificaPosicao(vetor,posicao):\n    for i, v in enumerate(vetor):\n        if posicao == i:\n            if v=='O':\n                print(v)\n                print('escolha novamente')\n            else:\n                print(v)\n                print('Que pena! Voce Perdeu!')\n        else:\n            print('Essa posicao nao existe')\n    return vetor",
      "execution_count": 14,
      "outputs": []
    },
    {
      "metadata": {
        "trusted": true
      },
      "cell_type": "code",
      "source": "def main():\n    vetor=[]\n    verPos = ''\n    arquivo = open('campominado.csv','r')\n    lista = csv.reader(vetor,delimiter=';')\n    for x in lista:\n        vetor.append(x)\n    \n    while True:\n        posicao = int(input('Digite uma posição:'))\n        verPos = verificaPosicao(vetor,posicao)\n        break\n    \n            \n    return verPos",
      "execution_count": 15,
      "outputs": []
    },
    {
      "metadata": {
        "trusted": true
      },
      "cell_type": "code",
      "source": "main()",
      "execution_count": 16,
      "outputs": [
        {
          "output_type": "stream",
          "name": "stdout",
          "text": "Digite uma posição:5\n"
        },
        {
          "output_type": "execute_result",
          "execution_count": 16,
          "data": {
            "text/plain": "[]"
          },
          "metadata": {}
        }
      ]
    },
    {
      "metadata": {
        "trusted": true
      },
      "cell_type": "code",
      "source": "",
      "execution_count": null,
      "outputs": []
    }
  ],
  "metadata": {
    "kernelspec": {
      "name": "python36",
      "display_name": "Python 3.6",
      "language": "python"
    }
  },
  "nbformat": 4,
  "nbformat_minor": 2
}